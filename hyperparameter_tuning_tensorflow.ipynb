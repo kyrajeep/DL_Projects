{
  "cells": [
    {
      "cell_type": "markdown",
      "metadata": {
        "id": "view-in-github",
        "colab_type": "text"
      },
      "source": [
        "<a href=\"https://colab.research.google.com/github/kyrajeep/Deep-Learning-and-Other/blob/master/hyperparameter_tuning_tensorflow.ipynb\" target=\"_parent\"><img src=\"https://colab.research.google.com/assets/colab-badge.svg\" alt=\"Open In Colab\"/></a>"
      ]
    },
    {
      "cell_type": "code",
      "execution_count": 9,
      "metadata": {
        "id": "ur8xi4C7S06n"
      },
      "outputs": [],
      "source": [
        "# Copyright 2022 Google LLC\n",
        "#\n",
        "# Licensed under the Apache License, Version 2.0 (the \"License\");\n",
        "# you may not use this file except in compliance with the License.\n",
        "# You may obtain a copy of the License at\n",
        "#\n",
        "#     https://www.apache.org/licenses/LICENSE-2.0\n",
        "#\n",
        "# Unless required by applicable law or agreed to in writing, software\n",
        "# distributed under the License is distributed on an \"AS IS\" BASIS,\n",
        "# WITHOUT WARRANTIES OR CONDITIONS OF ANY KIND, either express or implied.\n",
        "# See the License for the specific language governing permissions and\n",
        "# limitations under the License."
      ]
    },
    {
      "cell_type": "markdown",
      "metadata": {
        "id": "JAPoU8Sm5E6e"
      },
      "source": [
        "# Run hyperparameter tuning for a TensorFlow model\n",
        "\n",
        "<table align=\"left\">\n",
        "\n",
        "  <td>\n",
        "    <a href=\"https://colab.research.google.com/github/GoogleCloudPlatform/vertex-ai-samples/blob/main/notebooks/official/training/hyperparameter_tuning_tensorflow.ipynb\">\n",
        "      <img src=\"https://cloud.google.com/ml-engine/images/colab-logo-32px.png\" alt=\"Colab logo\"> Run in Colab\n",
        "    </a>\n",
        "  </td>\n",
        "  <td>\n",
        "    <a href=\"https://github.com/GoogleCloudPlatform/vertex-ai-samples/blob/main/notebooks/official/training/hyperparameter_tuning_tensorflow.ipynb\">\n",
        "      <img src=\"https://cloud.google.com/ml-engine/images/github-logo-32px.png\" alt=\"GitHub logo\">\n",
        "      View on GitHub\n",
        "    </a>\n",
        "  </td>\n",
        "  <td>\n",
        "    <a href=\"https://console.cloud.google.com/vertex-ai/workbench/deploy-notebook?download_url=https://raw.githubusercontent.com/GoogleCloudPlatform/vertex-ai-samples/main/notebooks/official/training/hyperparameter_tuning_tensorflow.ipynb\">\n",
        "      <img src=\"https://lh3.googleusercontent.com/UiNooY4LUgW_oTvpsNhPpQzsstV5W8F7rYgxgGBD85cWJoLmrOzhVs_ksK_vgx40SHs7jCqkTkCk=e14-rj-sc0xffffff-h130-w32\" alt=\"Vertex AI logo\">\n",
        "      Open in Vertex AI Workbench\n",
        "    </a>\n",
        "  </td>                                                                                               \n",
        "</table>"
      ]
    },
    {
      "cell_type": "markdown",
      "metadata": {
        "id": "24743cf4a1e1"
      },
      "source": [
        "**_NOTE_**: This notebook has been tested in the following environment:\n",
        "\n",
        "* Python version = 3.9"
      ]
    },
    {
      "cell_type": "markdown",
      "metadata": {
        "id": "tvgnzT1CKxrO"
      },
      "source": [
        "## Overview\n",
        "\n",
        "The values you select for your model’s hyperparameters can make all the difference. If you’re only trying to tune a handful of hyperparameters, you might be able to run experiments manually. But when you start juggling hyperparameters for your model’s architecture, the optimizer, and finding the best batch size and learning rate, automating these experiments at scale quickly becomes a necessity.\n",
        "\n",
        "And it’s not just about tracking the results from all these trials. You also want a way to efficiently search the space of possible values so you don’t waste as much time trying out combinations that yield low accuracy scores.\n",
        "\n",
        "Vertex AI Training includes a hyperparameter tuning service. A Vertex AI Hyperparameter tuning job will run multiple trials of your training code. On each trial, it will use different values for your chosen hyperparameters, set within limits you specify. By default, the service uses Bayesian optimization to search the space of possible hyperparameter values. This means that information from prior experiments is used to select the next set of values, making the search more efficient.\n",
        "\n",
        "Learn more about [Vertex AI Hyperparameter Tuning](https://cloud.google.com/vertex-ai/docs/training/hyperparameter-tuning-overview)."
      ]
    },
    {
      "cell_type": "markdown",
      "metadata": {
        "id": "d975e698c9a4"
      },
      "source": [
        "### Objective\n",
        "\n",
        "In this tutorial, you learn how to run a Vertex AI Hyperparameter Tuning job for a TensorFlow model. While this example uses TensorFlow, you can also use this service for other ML frameworks.\n",
        "\n",
        "This tutorial uses the following Google Cloud ML services and resources:\n",
        "\n",
        "* Vertex AI Training\n",
        "* Cloud Storage\n",
        "* Artifact Registry\n",
        "\n",
        "\n",
        "The steps performed include:\n",
        "\n",
        "* Modify training application code for automated hyperparameter tuning.\n",
        "* Containerize training application code.\n",
        "* Configure and launch a hyperparameter tuning job with the Vertex AI Python SDK."
      ]
    },
    {
      "cell_type": "markdown",
      "metadata": {
        "id": "08d289fa873f"
      },
      "source": [
        "### Dataset\n",
        "\n",
        "This sample uses the [Horses or Humans dataset](https://www.tensorflow.org/datasets/catalog/horses_or_humans) available through [TensorFlow datasets](https://www.tensorflow.org/datasets) to train a binary image classification model (horse or human)."
      ]
    },
    {
      "cell_type": "markdown",
      "metadata": {
        "id": "aed92deeb4a0"
      },
      "source": [
        "### Costs\n",
        "\n",
        "This tutorial uses billable components of Google Cloud:\n",
        "\n",
        "* Vertex AI\n",
        "* Cloud Storage\n",
        "* Artifact Registry\n",
        "\n",
        "Learn about [Vertex AI pricing](https://cloud.google.com/vertex-ai/pricing),\n",
        "[Cloud Storage pricing](https://cloud.google.com/storage/pricing),\n",
        "and [Artifact Registry pricing](https://cloud.google.com/artifact-registry/pricing)\n",
        "and use the [Pricing Calculator](https://cloud.google.com/products/calculator/)\n",
        "to generate a cost estimate based on your projected usage."
      ]
    },
    {
      "cell_type": "markdown",
      "metadata": {
        "id": "i7EUnXsZhAGF"
      },
      "source": [
        "## Installation\n",
        "\n",
        "Install the following packages required to execute this notebook."
      ]
    },
    {
      "cell_type": "code",
      "execution_count": 10,
      "metadata": {
        "id": "2b4ef9b72d43"
      },
      "outputs": [],
      "source": [
        "! pip3 install --upgrade --quiet google-cloud-aiplatform"
      ]
    },
    {
      "cell_type": "code",
      "source": [
        "!apt-get -qq install docker.io\n",
        "!docker --version\n",
        "! docker info\n",
        "! which docker\n",
        "! export PATH=$PATH:/usr/bin/docker\n"
      ],
      "metadata": {
        "colab": {
          "base_uri": "https://localhost:8080/"
        },
        "id": "RU8DmW81opV0",
        "outputId": "e7ad7994-5ea6-4b38-c513-e1a069b4599b"
      },
      "execution_count": 11,
      "outputs": [
        {
          "output_type": "stream",
          "name": "stdout",
          "text": [
            "Docker version 24.0.5, build 24.0.5-0ubuntu1~22.04.1\n",
            "Client:\n",
            " Version:    24.0.5\n",
            " Context:    default\n",
            " Debug Mode: false\n",
            "\n",
            "Server:\n",
            "ERROR: Cannot connect to the Docker daemon at unix:///var/run/docker.sock. Is the docker daemon running?\n",
            "errors pretty printing info\n",
            "/usr/bin/docker\n"
          ]
        }
      ]
    },
    {
      "cell_type": "code",
      "source": [
        "#!pip3 install udocker\n"
      ],
      "metadata": {
        "id": "1vrvnik_WOIY"
      },
      "execution_count": 12,
      "outputs": []
    },
    {
      "cell_type": "code",
      "source": [
        "'''\n",
        "older script for docker in colab but not working.\n",
        "%%shell\n",
        "set -x\n",
        "dockerd -b none --iptables=0 -l warn &\n",
        "for i in $(seq 5); do [ ! -S \"/var/run/docker.sock\" ] && sleep 2 || break; done\n",
        "docker info\n",
        "docker network ls\n",
        "docker pull hello-world\n",
        "docker images\n",
        "docker run hello-world\n",
        "kill $(jobs -p)\n",
        "'''"
      ],
      "metadata": {
        "colab": {
          "base_uri": "https://localhost:8080/",
          "height": 87
        },
        "id": "AzjKcGN6o2VI",
        "outputId": "ae180ab5-f577-42c8-8eb8-2d0e123f5aa3"
      },
      "execution_count": 13,
      "outputs": [
        {
          "output_type": "execute_result",
          "data": {
            "text/plain": [
              "'\\nolder script for docker in colab but not working.\\n%%shell\\nset -x\\ndockerd -b none --iptables=0 -l warn &\\nfor i in $(seq 5); do [ ! -S \"/var/run/docker.sock\" ] && sleep 2 || break; done\\ndocker info\\ndocker network ls\\ndocker pull hello-world\\ndocker images\\ndocker run hello-world\\nkill $(jobs -p)\\n'"
            ],
            "application/vnd.google.colaboratory.intrinsic+json": {
              "type": "string"
            }
          },
          "metadata": {},
          "execution_count": 13
        }
      ]
    },
    {
      "cell_type": "code",
      "source": [
        "'''\n",
        "# First let's update all the packages to the latest ones with the following command\n",
        "! sudo apt update -qq\n",
        "\n",
        "# Now we want to install some prerequisite packages which will let us use HTTPS over apt\n",
        "!sudo apt install apt-transport-https ca-certificates curl software-properties-common -qq\n",
        "\n",
        "# After that we will add the GPG key for the official Docker repository to the system\n",
        "!curl -fsSL https://download.docker.com/linux/ubuntu/gpg | sudo apt-key add -\n",
        "\n",
        "# We will add the Docker repository to our APT sources\n",
        "!sudo add-apt-repository \"deb [arch=amd64] https://download.docker.com/linux/ubuntu bionic stable\"\n",
        "\n",
        "# Next let's update the package database with our newly added Docker package repo\n",
        "!sudo apt update -qq\n",
        "\n",
        "# Finally lets install docker with the below command\n",
        "!sudo apt install docker-ce\n",
        "'''\n",
        "# Lets check that docker is running\n",
        "!docker start help"
      ],
      "metadata": {
        "colab": {
          "base_uri": "https://localhost:8080/"
        },
        "id": "RFd6JwInAUrB",
        "outputId": "29791b13-284d-48fe-96d5-7e5dfa64bfdf"
      },
      "execution_count": 54,
      "outputs": [
        {
          "output_type": "stream",
          "name": "stdout",
          "text": [
            "Cannot connect to the Docker daemon at unix:///var/run/docker.sock. Is the docker daemon running?\n",
            "Error: failed to start containers: help\n"
          ]
        }
      ]
    },
    {
      "cell_type": "markdown",
      "metadata": {
        "id": "58707a750154"
      },
      "source": [
        "### Colab only: Uncomment the following cell to restart the kernel."
      ]
    },
    {
      "cell_type": "code",
      "execution_count": 15,
      "metadata": {
        "id": "f200f10a1da3"
      },
      "outputs": [],
      "source": [
        "# Automatically restart kernel after installs so that your environment can access the new packages\n",
        "# import IPython\n",
        "\n",
        "# app = IPython.Application.instance()\n",
        "# app.kernel.do_shutdown(True)"
      ]
    },
    {
      "cell_type": "markdown",
      "metadata": {
        "id": "WReHDGG5g0XY"
      },
      "source": [
        "#### Set your project ID\n",
        "\n",
        "**If you don't know your project ID**, try the following:\n",
        "* Run `gcloud config list`.\n",
        "* Run `gcloud projects list`.\n",
        "* See the support page: [Locate the project ID](https://support.google.com/googleapi/answer/7014113)"
      ]
    },
    {
      "cell_type": "code",
      "execution_count": 16,
      "metadata": {
        "id": "oM1iC_MfAts1",
        "colab": {
          "base_uri": "https://localhost:8080/"
        },
        "outputId": "ccfb9221-76a0-4499-981e-09a833823747"
      },
      "outputs": [
        {
          "output_type": "stream",
          "name": "stdout",
          "text": [
            "Updated property [core/project].\n"
          ]
        }
      ],
      "source": [
        "PROJECT_ID = \"vision-412415\"  # @param {type:\"string\"}\n",
        "\n",
        "# Set the project id\n",
        "! gcloud config set project {PROJECT_ID}"
      ]
    },
    {
      "cell_type": "markdown",
      "metadata": {
        "id": "region"
      },
      "source": [
        "#### Set the region\n",
        "\n",
        "**Optional**: Update the 'REGION' variable to specify the region that you want to use. Learn more about [Vertex AI regions](https://cloud.google.com/vertex-ai/docs/general/locations)."
      ]
    },
    {
      "cell_type": "code",
      "execution_count": 27,
      "metadata": {
        "id": "nsN5NJKSu-GU"
      },
      "outputs": [],
      "source": [
        "REGION = \"us-west4\"  # @param {type: \"string\"}"
      ]
    },
    {
      "cell_type": "markdown",
      "metadata": {
        "id": "06571eb4063b"
      },
      "source": [
        "#### UUID\n",
        "\n",
        "If you are in a live tutorial session, you might be using a shared test account or project. To avoid name collisions between users on resources created, you create a uuid for each instance session, and append it onto the name of resources you create in this tutorial."
      ]
    },
    {
      "cell_type": "code",
      "execution_count": 18,
      "metadata": {
        "id": "697568e92bd6"
      },
      "outputs": [],
      "source": [
        "import random\n",
        "import string\n",
        "\n",
        "\n",
        "# Generate a uuid of a specifed length(default=8)\n",
        "def generate_uuid(length: int = 8) -> str:\n",
        "    return \"\".join(random.choices(string.ascii_lowercase + string.digits, k=length))\n",
        "\n",
        "\n",
        "UUID = generate_uuid()"
      ]
    },
    {
      "cell_type": "markdown",
      "metadata": {
        "id": "sBCra4QMA2wR"
      },
      "source": [
        "### Authenticate your Google Cloud account\n",
        "\n",
        "To authenticate your Google Cloud account, follow the instructions for your Jupyter environment:\n",
        "\n",
        "**1. Vertex AI Workbench**\n",
        "<br>You are already authenticated.\n",
        "\n",
        "**2. Local JupyterLab instance**\n",
        "<br>Uncomment and run the following code:"
      ]
    },
    {
      "cell_type": "code",
      "execution_count": 19,
      "metadata": {
        "id": "254614fa0c46"
      },
      "outputs": [],
      "source": [
        "# ! gcloud auth login"
      ]
    },
    {
      "cell_type": "markdown",
      "metadata": {
        "id": "ef21552ccea8"
      },
      "source": [
        "**3. Colab**\n",
        "<br>Uncomment and run the following code:"
      ]
    },
    {
      "cell_type": "code",
      "execution_count": 20,
      "metadata": {
        "id": "603adbbf0532"
      },
      "outputs": [],
      "source": [
        "from google.colab import auth\n",
        "\n",
        "auth.authenticate_user()"
      ]
    },
    {
      "cell_type": "markdown",
      "metadata": {
        "id": "c13224697bfb"
      },
      "source": [
        "**4. Service account or other**\n",
        "* See how to grant Cloud Storage permissions to your service account at https://cloud.google.com/storage/docs/gsutil/commands/iam#ch-examples."
      ]
    },
    {
      "cell_type": "markdown",
      "metadata": {
        "id": "zgPO1eR3CYjk"
      },
      "source": [
        "### Create a Cloud Storage bucket\n",
        "\n",
        "Create a storage bucket to store intermediate artifacts such as datasets."
      ]
    },
    {
      "cell_type": "code",
      "execution_count": 21,
      "metadata": {
        "id": "MzGDU7TWdts_"
      },
      "outputs": [],
      "source": [
        "BUCKET_URI = f\"gs://your-bucket-name-{PROJECT_ID}-unique\"  # @param {type:\"string\"}"
      ]
    },
    {
      "cell_type": "markdown",
      "metadata": {
        "id": "create_bucket"
      },
      "source": [
        "**Only if your bucket doesn't already exist**: Run the following cell to create your Cloud Storage bucket."
      ]
    },
    {
      "cell_type": "code",
      "execution_count": 22,
      "metadata": {
        "id": "NIq7R4HZCfIc",
        "colab": {
          "base_uri": "https://localhost:8080/"
        },
        "outputId": "0abe10f4-25ec-4234-85c1-52ed32c2936f"
      },
      "outputs": [
        {
          "output_type": "stream",
          "name": "stdout",
          "text": [
            "Creating gs://your-bucket-name-vision-412415-unique/...\n",
            "BadRequestException: 400 The specified location constraint is not valid.\n"
          ]
        }
      ],
      "source": [
        "! gsutil mb -l $REGION -p $PROJECT_ID $BUCKET_URI"
      ]
    },
    {
      "cell_type": "markdown",
      "metadata": {
        "id": "XoEqT2Y4DJmf"
      },
      "source": [
        "### Import libraries"
      ]
    },
    {
      "cell_type": "code",
      "execution_count": 23,
      "metadata": {
        "id": "pRUOFELefqf1"
      },
      "outputs": [],
      "source": [
        "import os\n",
        "\n",
        "import google.cloud.aiplatform as aiplatform\n",
        "from google.cloud.aiplatform import hyperparameter_tuning as hpt"
      ]
    },
    {
      "cell_type": "markdown",
      "metadata": {
        "id": "init_aip:mbsdk,all"
      },
      "source": [
        "### Initialize Vertex AI SDK for Python\n",
        "\n",
        "Initialize the Vertex AI SDK for Python for your project and corresponding bucket."
      ]
    },
    {
      "cell_type": "code",
      "execution_count": 28,
      "metadata": {
        "id": "rpEPNMnR_YSH"
      },
      "outputs": [],
      "source": [
        "aiplatform.init(project=PROJECT_ID, location=REGION, staging_bucket=BUCKET_URI)"
      ]
    },
    {
      "cell_type": "markdown",
      "metadata": {
        "id": "0debdc76f4ca"
      },
      "source": [
        "## Containerize training application code"
      ]
    },
    {
      "cell_type": "markdown",
      "metadata": {
        "id": "f6ac98289303"
      },
      "source": [
        "Before you can run a hyperparameter tuning job, you must create a source code file (training script) and a Dockerfile.\n",
        "\n",
        "The source code trains a model in the ML framework of your choice. In this example, you'll use TensorFlow to train a classification model.\n",
        "\n",
        "The Dockerfile will include all the commands needed to run the image. It'll install all the libraries required by your training script, and set up the entry point for the training code.\n",
        "\n",
        "You'll create a directory for storing your source code file and Dockerfile."
      ]
    },
    {
      "cell_type": "code",
      "execution_count": 29,
      "metadata": {
        "id": "b07b0aeb9309"
      },
      "outputs": [],
      "source": [
        "APPLICATION_DIR = \"hptune\"\n",
        "TRAINER_DIR = f\"{APPLICATION_DIR}/trainer\""
      ]
    },
    {
      "cell_type": "code",
      "execution_count": 30,
      "metadata": {
        "id": "bc7b72a9129a"
      },
      "outputs": [],
      "source": [
        "!mkdir -p $APPLICATION_DIR\n",
        "!mkdir -p $TRAINER_DIR"
      ]
    },
    {
      "cell_type": "markdown",
      "metadata": {
        "id": "e0914c763657"
      },
      "source": [
        "### Write the training script"
      ]
    },
    {
      "cell_type": "code",
      "execution_count": 31,
      "metadata": {
        "id": "f0c3b8232eab",
        "colab": {
          "base_uri": "https://localhost:8080/"
        },
        "outputId": "1e0845a8-1764-41f2-d6cb-ff7017b22821"
      },
      "outputs": [
        {
          "output_type": "stream",
          "name": "stdout",
          "text": [
            "Writing hptune/trainer/task.py\n"
          ]
        }
      ],
      "source": [
        "%%writefile {TRAINER_DIR}/task.py\n",
        "\n",
        "import tensorflow as tf\n",
        "import tensorflow_datasets as tfds\n",
        "import argparse\n",
        "import hypertune\n",
        "\n",
        "NUM_EPOCHS = 10\n",
        "\n",
        "\n",
        "def get_args():\n",
        "  '''Parses args. Must include all hyperparameters you want to tune.'''\n",
        "\n",
        "  parser = argparse.ArgumentParser()\n",
        "  parser.add_argument(\n",
        "      '--learning_rate',\n",
        "      required=True,\n",
        "      type=float,\n",
        "      help='learning rate')\n",
        "  parser.add_argument(\n",
        "      '--momentum',\n",
        "      required=True,\n",
        "      type=float,\n",
        "      help='SGD momentum value')\n",
        "  parser.add_argument(\n",
        "      '--num_units',\n",
        "      required=True,\n",
        "      type=int,\n",
        "      help='number of units in last hidden layer')\n",
        "  args = parser.parse_args()\n",
        "  return args\n",
        "\n",
        "\n",
        "def preprocess_data(image, label):\n",
        "  '''Resizes and scales images.'''\n",
        "\n",
        "  image = tf.image.resize(image, (150,150))\n",
        "  return tf.cast(image, tf.float32) / 255., label\n",
        "\n",
        "\n",
        "def create_dataset():\n",
        "  '''Loads Horses Or Humans dataset and preprocesses data.'''\n",
        "\n",
        "  data, info = tfds.load(name='horses_or_humans', as_supervised=True, with_info=True)\n",
        "\n",
        "  # Create train dataset\n",
        "  train_data = data['train'].map(preprocess_data)\n",
        "  train_data  = train_data.shuffle(1000)\n",
        "  train_data  = train_data.batch(64)\n",
        "\n",
        "  # Create validation dataset\n",
        "  validation_data = data['test'].map(preprocess_data)\n",
        "  validation_data  = validation_data.batch(64)\n",
        "\n",
        "  return train_data, validation_data\n",
        "\n",
        "\n",
        "def create_model(num_units, learning_rate, momentum):\n",
        "  '''Defines and compiles model.'''\n",
        "\n",
        "  inputs = tf.keras.Input(shape=(150, 150, 3))\n",
        "  x = tf.keras.layers.Conv2D(16, (3, 3), activation='relu')(inputs)\n",
        "  x = tf.keras.layers.MaxPooling2D((2, 2))(x)\n",
        "  x = tf.keras.layers.Conv2D(32, (3, 3), activation='relu')(x)\n",
        "  x = tf.keras.layers.MaxPooling2D((2, 2))(x)\n",
        "  x = tf.keras.layers.Conv2D(64, (3, 3), activation='relu')(x)\n",
        "  x = tf.keras.layers.MaxPooling2D((2, 2))(x)\n",
        "  x = tf.keras.layers.Flatten()(x)\n",
        "  x = tf.keras.layers.Dense(num_units, activation='relu')(x)\n",
        "  outputs = tf.keras.layers.Dense(1, activation='sigmoid')(x)\n",
        "  model = tf.keras.Model(inputs, outputs)\n",
        "  model.compile(\n",
        "      loss='binary_crossentropy',\n",
        "      optimizer=tf.keras.optimizers.SGD(learning_rate=learning_rate, momentum=momentum),\n",
        "      metrics=['accuracy'])\n",
        "  return model\n",
        "\n",
        "\n",
        "def main():\n",
        "  args = get_args()\n",
        "  train_data, validation_data = create_dataset()\n",
        "  model = create_model(args.num_units, args.learning_rate, args.momentum)\n",
        "  history = model.fit(train_data, epochs=NUM_EPOCHS, validation_data=validation_data)\n",
        "\n",
        "  # DEFINE METRIC\n",
        "  hp_metric = history.history['val_accuracy'][-1]\n",
        "\n",
        "  hpt = hypertune.HyperTune()\n",
        "  hpt.report_hyperparameter_tuning_metric(\n",
        "      hyperparameter_metric_tag='accuracy',\n",
        "      metric_value=hp_metric,\n",
        "      global_step=NUM_EPOCHS)\n",
        "\n",
        "\n",
        "if __name__ == \"__main__\":\n",
        "    main()"
      ]
    },
    {
      "cell_type": "markdown",
      "metadata": {
        "id": "1ff4babff0a8"
      },
      "source": [
        "### Understanding the training script\n",
        "\n",
        "Before you build the container, let's take a deeper look at the code. There are a few components that are specific to using the hyperparameter tuning service.\n",
        "\n",
        "The script imports the **hypertune library**:\n",
        "\n",
        "`import hypertune`\n",
        "\n",
        "The **function `get_args()`** defines a command-line argument for each hyperparameter that you want to tune. In this example, the hyperparameters that will be tuned are the learning rate, the momentum value in the optimizer, and the number of units in the last hidden layer of the model. Feel free to experiment with others. The values passed in those arguments are then used to set the corresponding hyperparameter in the code.\n",
        "\n",
        "```\n",
        "def get_args():\n",
        "  '''Parses args. Must include all hyperparameters you want to tune.'''\n",
        "\n",
        "  parser = argparse.ArgumentParser()\n",
        "  parser.add_argument(\n",
        "      '--learning_rate',\n",
        "      required=True,\n",
        "      type=float,\n",
        "      help='learning rate')\n",
        "  parser.add_argument(\n",
        "      '--momentum',\n",
        "      required=True,\n",
        "      type=float,\n",
        "      help='SGD momentum value')\n",
        "  parser.add_argument(\n",
        "      '--num_units',\n",
        "      required=True,\n",
        "      type=int,\n",
        "      help='number of units in last hidden layer')\n",
        "  args = parser.parse_args()\n",
        "  return args\n",
        "```\n",
        "\n",
        "\n",
        "At the end of the `main()` function, the `hypertune` library is used to **define the metric you want to optimize**. In TensorFlow, the keras `model.fit` method returns a `History` object. The `History.history` attribute is a record of training loss values and metrics values at successive epochs. If you pass validation data to `model.fit` the `History.history` attribute will include validation loss and metrics values as well.\n",
        "\n",
        "```\n",
        "  hp_metric = history.history['val_accuracy'][-1]\n",
        "\n",
        "  hpt = hypertune.HyperTune()\n",
        "  hpt.report_hyperparameter_tuning_metric(\n",
        "      hyperparameter_metric_tag='accuracy',\n",
        "      metric_value=hp_metric,\n",
        "      global_step=NUM_EPOCHS)\n",
        " ```\n",
        "\n",
        "For example, if you trained a model for three epochs with validation data and provided accuracy as a metric, the `History.history` attribute would look similar to the following dictionary.\n",
        "\n",
        "```\n",
        "{\n",
        " \"accuracy\": [\n",
        "   0.7795261740684509,\n",
        "   0.9471358060836792,\n",
        "   0.9870933294296265\n",
        " ],\n",
        " \"loss\": [\n",
        "   0.6340447664260864,\n",
        "   0.16712145507335663,\n",
        "   0.04546636343002319\n",
        " ],\n",
        " \"val_accuracy\": [\n",
        "   0.3795261740684509,\n",
        "   0.4471358060836792,\n",
        "   0.4870933294296265\n",
        " ],\n",
        " \"val_loss\": [\n",
        "   2.044623374938965,\n",
        "   4.100203514099121,\n",
        "   3.0728273391723633\n",
        " ]\n",
        "```\n",
        "\n",
        "If you want the hyperparameter tuning service to discover the values that maximize the model's validation accuracy, you define the metric as the last entry (or `NUM_EPOCS` - 1) of the `val_accuracy` list. Then, pass this metric to an instance of `HyperTune`. You can pick whatever string you like for the `hyperparameter_metric_tag`, but you need to use the string again later when you kick off the hyperparameter tuning job."
      ]
    },
    {
      "cell_type": "markdown",
      "metadata": {
        "id": "b74b64e9a3c5"
      },
      "source": [
        "### Write Dockerfile\n",
        "\n",
        "After writing your training code, you create a Dockerfile. In the Dockerfile, you include all the commands needed to run the image. It'll install all the necessary libraries, including the CloudML Hypertune library, and set up the entry point for the training code."
      ]
    },
    {
      "cell_type": "code",
      "execution_count": 32,
      "metadata": {
        "id": "ef3e973aed89",
        "colab": {
          "base_uri": "https://localhost:8080/"
        },
        "outputId": "f3fecfe4-49a3-496e-e424-176202ec26f7"
      },
      "outputs": [
        {
          "output_type": "stream",
          "name": "stdout",
          "text": [
            "Writing hptune/Dockerfile\n"
          ]
        }
      ],
      "source": [
        "%%writefile {APPLICATION_DIR}/Dockerfile\n",
        "\n",
        "FROM gcr.io/deeplearning-platform-release/tf2-gpu.2-8\n",
        "\n",
        "WORKDIR /\n",
        "\n",
        "# Installs hypertune library\n",
        "RUN pip install cloudml-hypertune\n",
        "\n",
        "# Copies the trainer code to the Docker image.\n",
        "COPY trainer /trainer\n",
        "\n",
        "# Sets up the entry point to invoke the trainer.\n",
        "ENTRYPOINT [\"python\", \"-m\", \"trainer.task\"]"
      ]
    },
    {
      "cell_type": "markdown",
      "metadata": {
        "id": "616150778c61"
      },
      "source": [
        "### Build the container\n",
        "\n",
        "You'll store the Docker image in Artifact Registry. First, create a Docker repository in Artifact Registry"
      ]
    },
    {
      "cell_type": "code",
      "execution_count": 33,
      "metadata": {
        "id": "8d79730faf62",
        "colab": {
          "base_uri": "https://localhost:8080/"
        },
        "outputId": "f048495b-a7ed-4654-edf1-2392e20b1b90"
      },
      "outputs": [
        {
          "output_type": "stream",
          "name": "stdout",
          "text": [
            "Create request issued for: [horses-app]\n",
            "Created repository [horses-app].\n",
            "Adding credentials for: us-west4-docker.pkg.dev\n",
            "Docker configuration file updated.\n"
          ]
        }
      ],
      "source": [
        "REPO_NAME='horses-app'\n",
        "\n",
        "! gcloud services enable artifactregistry.googleapis.com\n",
        "\n",
        "if os.getenv(\"IS_TESTING\"):\n",
        "    ! sudo apt-get update --yes && sudo apt-get --only-upgrade --yes install google-cloud-sdk-cloud-run-proxy google-cloud-sdk-harbourbridge google-cloud-sdk-cbt google-cloud-sdk-gke-gcloud-auth-plugin google-cloud-sdk-kpt google-cloud-sdk-local-extract google-cloud-sdk-minikube google-cloud-sdk-app-engine-java google-cloud-sdk-app-engine-go google-cloud-sdk-app-engine-python google-cloud-sdk-spanner-emulator google-cloud-sdk-bigtable-emulator google-cloud-sdk-nomos google-cloud-sdk-package-go-module google-cloud-sdk-firestore-emulator kubectl google-cloud-sdk-datastore-emulator google-cloud-sdk-app-engine-python-extras google-cloud-sdk-cloud-build-local google-cloud-sdk-kubectl-oidc google-cloud-sdk-anthos-auth google-cloud-sdk-app-engine-grpc google-cloud-sdk-pubsub-emulator google-cloud-sdk-datalab google-cloud-sdk-skaffold google-cloud-sdk google-cloud-sdk-terraform-tools google-cloud-sdk-config-connector\n",
        "    ! gcloud components update --quiet\n",
        "\n",
        "!gcloud artifacts repositories create $REPO_NAME --repository-format=docker \\\n",
        "--location=$REGION --description=\"Docker repository\"\n",
        "\n",
        "! gcloud auth configure-docker {REGION}-docker.pkg.dev --quiet"
      ]
    },
    {
      "cell_type": "code",
      "source": [
        "# WARNING: `docker` not in system PATH.\n",
        "#`docker` and `docker-credential-gcloud` need to be in the same PATH in order to work correctly together.\n",
        "# gcloud's Docker credential helper can be configured but it will not work until this is corrected.\n",
        "#https://stackoverflow.com/questions/49780218/docker-credential-gcloud-not-in-system-path\n",
        "! echo $PATH\n",
        "#!sudo usermod -aG docker $USER. need to have the accessibility to docker with another command\n",
        "#!sudo systemctl status docker\n",
        "! docker info\n",
        "! export PATH=$PATH:/var/run/docker.sock\n",
        "#! ls /tools/google-cloud-sdk/bin\n",
        "#! ls /usr/local/bin\n",
        "#! ls /usr/bin\n",
        "#! ls /usr/sbin\n",
        "#! ln -s /tools/google-cloud-sdk/bin/ /usr/sbin/"
      ],
      "metadata": {
        "colab": {
          "base_uri": "https://localhost:8080/"
        },
        "id": "ASg-DINvX6vS",
        "outputId": "1a2b16d3-8308-46a6-a7b4-e89f97e1a51a"
      },
      "execution_count": 56,
      "outputs": [
        {
          "output_type": "stream",
          "name": "stdout",
          "text": [
            "/opt/bin:/usr/local/nvidia/bin:/usr/local/cuda/bin:/usr/local/sbin:/usr/local/bin:/usr/sbin:/usr/bin:/sbin:/bin:/tools/node/bin:/tools/google-cloud-sdk/bin\n",
            "System has not been booted with systemd as init system (PID 1). Can't operate.\n",
            "Failed to connect to bus: Host is down\n",
            "Client:\n",
            " Version:    24.0.5\n",
            " Context:    default\n",
            " Debug Mode: false\n",
            "\n",
            "Server:\n",
            "ERROR: Cannot connect to the Docker daemon at unix:///var/run/docker.sock. Is the docker daemon running?\n",
            "errors pretty printing info\n"
          ]
        }
      ]
    },
    {
      "cell_type": "code",
      "source": [
        "! gcloud auth configure-docker {REGION}-docker.pkg.dev --quiet"
      ],
      "metadata": {
        "colab": {
          "base_uri": "https://localhost:8080/"
        },
        "id": "B7aCze70yDCn",
        "outputId": "ddc19755-5183-40da-9ef1-5a716330cff3"
      },
      "execution_count": 41,
      "outputs": [
        {
          "output_type": "stream",
          "name": "stdout",
          "text": [
            "\u001b[1;33mWARNING:\u001b[0m Your config file at [/root/.docker/config.json] contains these credential helper entries:\n",
            "\n",
            "{\n",
            "  \"credHelpers\": {\n",
            "    \"us-west4-docker.pkg.dev\": \"gcloud\"\n",
            "  }\n",
            "}\n",
            "Adding credentials for: us-west4-docker.pkg.dev\n",
            "gcloud credential helpers already registered correctly.\n"
          ]
        }
      ]
    },
    {
      "cell_type": "markdown",
      "metadata": {
        "id": "5fb8be3937a3"
      },
      "source": [
        "Define a variable with the URI of your Docker image in Artifact Registry:"
      ]
    },
    {
      "cell_type": "code",
      "execution_count": 42,
      "metadata": {
        "id": "21f98973a812"
      },
      "outputs": [],
      "source": [
        "IMAGE_URI = (\n",
        "    f\"{REGION}-docker.pkg.dev/{PROJECT_ID}/{REPO_NAME}/horse_human_hptune:latest\"\n",
        ")"
      ]
    },
    {
      "cell_type": "markdown",
      "metadata": {
        "id": "efd695af40f0"
      },
      "source": [
        "Then, build the container by running the following:"
      ]
    },
    {
      "cell_type": "code",
      "execution_count": 43,
      "metadata": {
        "id": "26be5eee7a08",
        "colab": {
          "base_uri": "https://localhost:8080/"
        },
        "outputId": "ffd53986-cf96-4da0-d9df-d65d393bdaf8"
      },
      "outputs": [
        {
          "output_type": "stream",
          "name": "stdout",
          "text": [
            "[Errno 2] No such file or directory: 'hptune'\n",
            "/content/hptune\n"
          ]
        }
      ],
      "source": [
        "cd $APPLICATION_DIR"
      ]
    },
    {
      "cell_type": "code",
      "source": [
        "#! docker start --help\n",
        "#! systemctl start docker\n",
        "#! dockered\n",
        "#!sudo service docker start\n",
        "#!gpasswd -a $USER docker\n",
        "! cd /var/run\n",
        "! ls"
      ],
      "metadata": {
        "id": "JNoVC1ojB6rt",
        "colab": {
          "base_uri": "https://localhost:8080/"
        },
        "outputId": "c2aa6154-b867-42dd-f5c4-65393bbd3895"
      },
      "execution_count": 49,
      "outputs": [
        {
          "output_type": "stream",
          "name": "stdout",
          "text": [
            "Dockerfile  trainer\n"
          ]
        }
      ]
    },
    {
      "cell_type": "code",
      "execution_count": 50,
      "metadata": {
        "id": "74eddc8488f9",
        "colab": {
          "base_uri": "https://localhost:8080/"
        },
        "outputId": "427fe233-7d88-4b73-cf57-9919ba416b21"
      },
      "outputs": [
        {
          "output_type": "stream",
          "name": "stdout",
          "text": [
            "DEPRECATED: The legacy builder is deprecated and will be removed in a future release.\n",
            "            Install the buildx component to build images with BuildKit:\n",
            "            https://docs.docker.com/go/buildx/\n",
            "\n",
            "Cannot connect to the Docker daemon at unix:///var/run/docker.sock. Is the docker daemon running?\n"
          ]
        }
      ],
      "source": [
        "!docker build ./ -t $IMAGE_URI"
      ]
    },
    {
      "cell_type": "markdown",
      "metadata": {
        "id": "ba55cbcf52a5"
      },
      "source": [
        "Finally, push it to Artifact Registry"
      ]
    },
    {
      "cell_type": "code",
      "execution_count": 39,
      "metadata": {
        "id": "a6062ab48d49",
        "colab": {
          "base_uri": "https://localhost:8080/"
        },
        "outputId": "820cb0fc-9acd-4874-989d-a42f50c57594"
      },
      "outputs": [
        {
          "output_type": "stream",
          "name": "stdout",
          "text": [
            "Cannot connect to the Docker daemon at unix:///var/run/docker.sock. Is the docker daemon running?\n"
          ]
        }
      ],
      "source": [
        "!docker push $IMAGE_URI"
      ]
    },
    {
      "cell_type": "code",
      "source": [
        "\n",
        "!gcloud compute accelerator-types list \\\n",
        "   --project={PROJECT_ID}"
      ],
      "metadata": {
        "colab": {
          "base_uri": "https://localhost:8080/"
        },
        "id": "ILT429-p6rq8",
        "outputId": "5aef8a06-999f-4bcf-c4f8-5dd73174da79"
      },
      "execution_count": 25,
      "outputs": [
        {
          "output_type": "stream",
          "name": "stdout",
          "text": [
            "NAME                   ZONE                       DESCRIPTION\n",
            "ct5l                   us-central1-a              ct5l\n",
            "ct5lp                  us-central1-a              ct5lp\n",
            "nvidia-a100-80gb       us-central1-a              NVIDIA A100 80GB\n",
            "nvidia-h100-80gb       us-central1-a              NVIDIA H100 80GB\n",
            "nvidia-l4              us-central1-a              NVIDIA L4\n",
            "nvidia-l4-vws          us-central1-a              NVIDIA L4 Virtual Workstation\n",
            "nvidia-tesla-a100      us-central1-a              NVIDIA A100 40GB\n",
            "nvidia-tesla-k80       us-central1-a              NVIDIA Tesla K80\n",
            "nvidia-tesla-p4        us-central1-a              NVIDIA Tesla P4\n",
            "nvidia-tesla-p4-vws    us-central1-a              NVIDIA Tesla P4 Virtual Workstation\n",
            "nvidia-tesla-t4        us-central1-a              NVIDIA T4\n",
            "nvidia-tesla-t4-vws    us-central1-a              NVIDIA Tesla T4 Virtual Workstation\n",
            "nvidia-tesla-v100      us-central1-a              NVIDIA V100\n",
            "nvidia-l4              us-central1-b              NVIDIA L4\n",
            "nvidia-l4-vws          us-central1-b              NVIDIA L4 Virtual Workstation\n",
            "nvidia-tesla-a100      us-central1-b              NVIDIA A100 40GB\n",
            "nvidia-tesla-t4        us-central1-b              NVIDIA T4\n",
            "nvidia-tesla-t4-vws    us-central1-b              NVIDIA Tesla T4 Virtual Workstation\n",
            "nvidia-tesla-v100      us-central1-b              NVIDIA V100\n",
            "nvidia-a100-80gb       us-central1-c              NVIDIA A100 80GB\n",
            "nvidia-h100-80gb       us-central1-c              NVIDIA H100 80GB\n",
            "nvidia-l4              us-central1-c              NVIDIA L4\n",
            "nvidia-l4-vws          us-central1-c              NVIDIA L4 Virtual Workstation\n",
            "nvidia-tesla-a100      us-central1-c              NVIDIA A100 40GB\n",
            "nvidia-tesla-k80       us-central1-c              NVIDIA Tesla K80\n",
            "nvidia-tesla-p100      us-central1-c              NVIDIA Tesla P100\n",
            "nvidia-tesla-p100-vws  us-central1-c              NVIDIA Tesla P100 Virtual Workstation\n",
            "nvidia-tesla-p4        us-central1-c              NVIDIA Tesla P4\n",
            "nvidia-tesla-p4-vws    us-central1-c              NVIDIA Tesla P4 Virtual Workstation\n",
            "nvidia-tesla-t4        us-central1-c              NVIDIA T4\n",
            "nvidia-tesla-t4-vws    us-central1-c              NVIDIA Tesla T4 Virtual Workstation\n",
            "nvidia-tesla-v100      us-central1-c              NVIDIA V100\n",
            "nvidia-tesla-a100      us-central1-f              NVIDIA A100 40GB\n",
            "nvidia-tesla-k80       us-central1-f              NVIDIA Tesla K80\n",
            "nvidia-tesla-p100      us-central1-f              NVIDIA Tesla P100\n",
            "nvidia-tesla-p100-vws  us-central1-f              NVIDIA Tesla P100 Virtual Workstation\n",
            "nvidia-tesla-t4        us-central1-f              NVIDIA T4\n",
            "nvidia-tesla-t4-vws    us-central1-f              NVIDIA Tesla T4 Virtual Workstation\n",
            "nvidia-tesla-v100      us-central1-f              NVIDIA V100\n",
            "ct4p                   us-central2-b              Ct4p\n",
            "nvidia-l4              europe-west1-b             NVIDIA L4\n",
            "nvidia-l4-vws          europe-west1-b             NVIDIA L4 Virtual Workstation\n",
            "nvidia-tesla-k80       europe-west1-b             NVIDIA Tesla K80\n",
            "nvidia-tesla-p100      europe-west1-b             NVIDIA Tesla P100\n",
            "nvidia-tesla-p100-vws  europe-west1-b             NVIDIA Tesla P100 Virtual Workstation\n",
            "nvidia-tesla-t4        europe-west1-b             NVIDIA T4\n",
            "nvidia-tesla-t4-vws    europe-west1-b             NVIDIA Tesla T4 Virtual Workstation\n",
            "nvidia-l4              europe-west1-c             NVIDIA L4\n",
            "nvidia-l4-vws          europe-west1-c             NVIDIA L4 Virtual Workstation\n",
            "nvidia-tesla-t4        europe-west1-c             NVIDIA T4\n",
            "nvidia-tesla-t4-vws    europe-west1-c             NVIDIA Tesla T4 Virtual Workstation\n",
            "nvidia-tesla-k80       europe-west1-d             NVIDIA Tesla K80\n",
            "nvidia-tesla-p100      europe-west1-d             NVIDIA Tesla P100\n",
            "nvidia-tesla-p100-vws  europe-west1-d             NVIDIA Tesla P100 Virtual Workstation\n",
            "nvidia-tesla-t4        europe-west1-d             NVIDIA T4\n",
            "nvidia-tesla-t4-vws    europe-west1-d             NVIDIA Tesla T4 Virtual Workstation\n",
            "nvidia-l4              us-west1-a                 NVIDIA L4\n",
            "nvidia-l4-vws          us-west1-a                 NVIDIA L4 Virtual Workstation\n",
            "nvidia-tesla-p100      us-west1-a                 NVIDIA Tesla P100\n",
            "nvidia-tesla-p100-vws  us-west1-a                 NVIDIA Tesla P100 Virtual Workstation\n",
            "nvidia-tesla-t4        us-west1-a                 NVIDIA T4\n",
            "nvidia-tesla-t4-vws    us-west1-a                 NVIDIA Tesla T4 Virtual Workstation\n",
            "nvidia-tesla-v100      us-west1-a                 NVIDIA V100\n",
            "nvidia-l4              us-west1-b                 NVIDIA L4\n",
            "nvidia-l4-vws          us-west1-b                 NVIDIA L4 Virtual Workstation\n",
            "nvidia-tesla-a100      us-west1-b                 NVIDIA A100 40GB\n",
            "nvidia-tesla-k80       us-west1-b                 NVIDIA Tesla K80\n",
            "nvidia-tesla-p100      us-west1-b                 NVIDIA Tesla P100\n",
            "nvidia-tesla-p100-vws  us-west1-b                 NVIDIA Tesla P100 Virtual Workstation\n",
            "nvidia-tesla-t4        us-west1-b                 NVIDIA T4\n",
            "nvidia-tesla-t4-vws    us-west1-b                 NVIDIA Tesla T4 Virtual Workstation\n",
            "nvidia-tesla-v100      us-west1-b                 NVIDIA V100\n",
            "ct5lp                  us-west1-c                 ct5lp\n",
            "nvidia-l4              us-west1-c                 NVIDIA L4\n",
            "nvidia-l4-vws          us-west1-c                 NVIDIA L4 Virtual Workstation\n",
            "nvidia-l4              asia-east1-a               NVIDIA L4\n",
            "nvidia-l4-vws          asia-east1-a               NVIDIA L4 Virtual Workstation\n",
            "nvidia-tesla-k80       asia-east1-a               NVIDIA Tesla K80\n",
            "nvidia-tesla-p100      asia-east1-a               NVIDIA Tesla P100\n",
            "nvidia-tesla-p100-vws  asia-east1-a               NVIDIA Tesla P100 Virtual Workstation\n",
            "nvidia-tesla-t4        asia-east1-a               NVIDIA T4\n",
            "nvidia-tesla-t4-vws    asia-east1-a               NVIDIA Tesla T4 Virtual Workstation\n",
            "nvidia-l4              asia-east1-b               NVIDIA L4\n",
            "nvidia-tesla-k80       asia-east1-b               NVIDIA Tesla K80\n",
            "nvidia-l4              asia-east1-c               NVIDIA L4\n",
            "nvidia-l4-vws          asia-east1-c               NVIDIA L4 Virtual Workstation\n",
            "nvidia-tesla-p100      asia-east1-c               NVIDIA Tesla P100\n",
            "nvidia-tesla-p100-vws  asia-east1-c               NVIDIA Tesla P100 Virtual Workstation\n",
            "nvidia-tesla-t4        asia-east1-c               NVIDIA T4\n",
            "nvidia-tesla-t4-vws    asia-east1-c               NVIDIA Tesla T4 Virtual Workstation\n",
            "nvidia-tesla-v100      asia-east1-c               NVIDIA V100\n",
            "nvidia-tesla-a100      us-east1-a                 NVIDIA A100 40GB\n",
            "nvidia-tesla-k80       us-east1-a                 NVIDIA Tesla K80\n",
            "nvidia-tesla-p100      us-east1-a                 NVIDIA Tesla P100\n",
            "nvidia-tesla-p100-vws  us-east1-a                 NVIDIA Tesla P100 Virtual Workstation\n",
            "nvidia-tesla-p4        us-east1-a                 NVIDIA Tesla P4\n",
            "nvidia-tesla-p4-vws    us-east1-a                 NVIDIA Tesla P4 Virtual Workstation\n",
            "nvidia-tesla-t4        us-east1-a                 NVIDIA T4\n",
            "nvidia-tesla-t4-vws    us-east1-a                 NVIDIA Tesla T4 Virtual Workstation\n",
            "nvidia-tesla-v100      us-east1-a                 NVIDIA V100\n",
            "nvidia-l4              us-east1-b                 NVIDIA L4\n",
            "nvidia-l4-vws          us-east1-b                 NVIDIA L4 Virtual Workstation\n",
            "nvidia-tesla-a100      us-east1-b                 NVIDIA A100 40GB\n",
            "nvidia-tesla-p100      us-east1-b                 NVIDIA Tesla P100\n",
            "nvidia-tesla-p100-vws  us-east1-b                 NVIDIA Tesla P100 Virtual Workstation\n",
            "ct5lp                  us-east1-c                 ct5lp\n",
            "nvidia-l4              us-east1-c                 NVIDIA L4\n",
            "nvidia-l4-vws          us-east1-c                 NVIDIA L4 Virtual Workstation\n",
            "nvidia-tesla-k80       us-east1-c                 NVIDIA Tesla K80\n",
            "nvidia-tesla-p100      us-east1-c                 NVIDIA Tesla P100\n",
            "nvidia-tesla-p100-vws  us-east1-c                 NVIDIA Tesla P100 Virtual Workstation\n",
            "nvidia-tesla-t4        us-east1-c                 NVIDIA T4\n",
            "nvidia-tesla-t4-vws    us-east1-c                 NVIDIA Tesla T4 Virtual Workstation\n",
            "nvidia-tesla-v100      us-east1-c                 NVIDIA V100\n",
            "ct5p                   us-east1-d                 ct5p\n",
            "nvidia-l4              us-east1-d                 NVIDIA L4\n",
            "nvidia-l4-vws          us-east1-d                 NVIDIA L4 Virtual Workstation\n",
            "nvidia-tesla-k80       us-east1-d                 NVIDIA Tesla K80\n",
            "nvidia-tesla-t4        us-east1-d                 NVIDIA T4\n",
            "nvidia-tesla-t4-vws    us-east1-d                 NVIDIA Tesla T4 Virtual Workstation\n",
            "nvidia-l4              asia-northeast1-a          NVIDIA L4\n",
            "nvidia-l4-vws          asia-northeast1-a          NVIDIA L4 Virtual Workstation\n",
            "nvidia-tesla-a100      asia-northeast1-a          NVIDIA A100 40GB\n",
            "nvidia-tesla-t4        asia-northeast1-a          NVIDIA T4\n",
            "nvidia-tesla-t4-vws    asia-northeast1-a          NVIDIA Tesla T4 Virtual Workstation\n",
            "nvidia-l4              asia-northeast1-c          NVIDIA L4\n",
            "nvidia-l4-vws          asia-northeast1-c          NVIDIA L4 Virtual Workstation\n",
            "nvidia-tesla-a100      asia-northeast1-c          NVIDIA A100 40GB\n",
            "nvidia-tesla-t4        asia-northeast1-c          NVIDIA T4\n",
            "nvidia-tesla-t4-vws    asia-northeast1-c          NVIDIA Tesla T4 Virtual Workstation\n",
            "nvidia-l4              asia-southeast1-a          NVIDIA L4\n",
            "nvidia-l4-vws          asia-southeast1-a          NVIDIA L4 Virtual Workstation\n",
            "nvidia-tesla-t4        asia-southeast1-a          NVIDIA T4\n",
            "nvidia-tesla-t4-vws    asia-southeast1-a          NVIDIA Tesla T4 Virtual Workstation\n",
            "ct5lp                  asia-southeast1-b          ct5lp\n",
            "nvidia-h100-80gb       asia-southeast1-b          NVIDIA H100 80GB\n",
            "nvidia-l4              asia-southeast1-b          NVIDIA L4\n",
            "nvidia-l4-vws          asia-southeast1-b          NVIDIA L4 Virtual Workstation\n",
            "nvidia-tesla-a100      asia-southeast1-b          NVIDIA A100 40GB\n",
            "nvidia-tesla-p4        asia-southeast1-b          NVIDIA Tesla P4\n",
            "nvidia-tesla-p4-vws    asia-southeast1-b          NVIDIA Tesla P4 Virtual Workstation\n",
            "nvidia-tesla-t4        asia-southeast1-b          NVIDIA T4\n",
            "nvidia-tesla-t4-vws    asia-southeast1-b          NVIDIA Tesla T4 Virtual Workstation\n",
            "nvidia-a100-80gb       asia-southeast1-c          NVIDIA A100 80GB\n",
            "nvidia-h100-80gb       asia-southeast1-c          NVIDIA H100 80GB\n",
            "nvidia-l4              asia-southeast1-c          NVIDIA L4\n",
            "nvidia-l4-vws          asia-southeast1-c          NVIDIA L4 Virtual Workstation\n",
            "nvidia-tesla-a100      asia-southeast1-c          NVIDIA A100 40GB\n",
            "nvidia-tesla-p4        asia-southeast1-c          NVIDIA Tesla P4\n",
            "nvidia-tesla-p4-vws    asia-southeast1-c          NVIDIA Tesla P4 Virtual Workstation\n",
            "nvidia-tesla-t4        asia-southeast1-c          NVIDIA T4\n",
            "nvidia-tesla-t4-vws    asia-southeast1-c          NVIDIA Tesla T4 Virtual Workstation\n",
            "nvidia-h100-80gb       us-east4-a                 NVIDIA H100 80GB\n",
            "nvidia-l4              us-east4-a                 NVIDIA L4\n",
            "nvidia-l4-vws          us-east4-a                 NVIDIA L4 Virtual Workstation\n",
            "nvidia-tesla-p4        us-east4-a                 NVIDIA Tesla P4\n",
            "nvidia-tesla-p4-vws    us-east4-a                 NVIDIA Tesla P4 Virtual Workstation\n",
            "nvidia-tesla-t4        us-east4-a                 NVIDIA T4\n",
            "nvidia-tesla-t4-vws    us-east4-a                 NVIDIA Tesla T4 Virtual Workstation\n",
            "nvidia-h100-80gb       us-east4-b                 NVIDIA H100 80GB\n",
            "nvidia-tesla-p4        us-east4-b                 NVIDIA Tesla P4\n",
            "nvidia-tesla-p4-vws    us-east4-b                 NVIDIA Tesla P4 Virtual Workstation\n",
            "nvidia-tesla-t4        us-east4-b                 NVIDIA T4\n",
            "nvidia-tesla-t4-vws    us-east4-b                 NVIDIA Tesla T4 Virtual Workstation\n",
            "nvidia-a100-80gb       us-east4-c                 NVIDIA A100 80GB\n",
            "nvidia-h100-80gb       us-east4-c                 NVIDIA H100 80GB\n",
            "nvidia-l4              us-east4-c                 NVIDIA L4\n",
            "nvidia-l4-vws          us-east4-c                 NVIDIA L4 Virtual Workstation\n",
            "nvidia-tesla-p4        us-east4-c                 NVIDIA Tesla P4\n",
            "nvidia-tesla-p4-vws    us-east4-c                 NVIDIA Tesla P4 Virtual Workstation\n",
            "nvidia-tesla-t4        us-east4-c                 NVIDIA T4\n",
            "nvidia-tesla-t4-vws    us-east4-c                 NVIDIA Tesla T4 Virtual Workstation\n",
            "nvidia-tesla-p100      australia-southeast1-c     NVIDIA Tesla P100\n",
            "nvidia-tesla-p100-vws  australia-southeast1-c     NVIDIA Tesla P100 Virtual Workstation\n",
            "nvidia-tesla-t4        australia-southeast1-c     NVIDIA T4\n",
            "nvidia-tesla-t4-vws    australia-southeast1-c     NVIDIA Tesla T4 Virtual Workstation\n",
            "nvidia-tesla-p4        australia-southeast1-a     NVIDIA Tesla P4\n",
            "nvidia-tesla-p4-vws    australia-southeast1-a     NVIDIA Tesla P4 Virtual Workstation\n",
            "nvidia-tesla-t4        australia-southeast1-a     NVIDIA T4\n",
            "nvidia-tesla-t4-vws    australia-southeast1-a     NVIDIA Tesla T4 Virtual Workstation\n",
            "nvidia-tesla-p4        australia-southeast1-b     NVIDIA Tesla P4\n",
            "nvidia-tesla-p4-vws    australia-southeast1-b     NVIDIA Tesla P4 Virtual Workstation\n",
            "nvidia-l4              europe-west2-a             NVIDIA L4\n",
            "nvidia-l4-vws          europe-west2-a             NVIDIA L4 Virtual Workstation\n",
            "nvidia-tesla-t4        europe-west2-a             NVIDIA T4\n",
            "nvidia-tesla-t4-vws    europe-west2-a             NVIDIA Tesla T4 Virtual Workstation\n",
            "nvidia-l4              europe-west2-b             NVIDIA L4\n",
            "nvidia-l4-vws          europe-west2-b             NVIDIA L4 Virtual Workstation\n",
            "nvidia-tesla-t4        europe-west2-b             NVIDIA T4\n",
            "nvidia-tesla-t4-vws    europe-west2-b             NVIDIA Tesla T4 Virtual Workstation\n",
            "nvidia-l4              europe-west3-b             NVIDIA L4\n",
            "nvidia-l4-vws          europe-west3-b             NVIDIA L4 Virtual Workstation\n",
            "nvidia-tesla-t4        europe-west3-b             NVIDIA T4\n",
            "nvidia-tesla-t4-vws    europe-west3-b             NVIDIA Tesla T4 Virtual Workstation\n",
            "nvidia-tesla-t4        southamerica-east1-a       NVIDIA T4\n",
            "nvidia-tesla-t4-vws    southamerica-east1-a       NVIDIA Tesla T4 Virtual Workstation\n",
            "nvidia-tesla-t4        southamerica-east1-c       NVIDIA T4\n",
            "nvidia-tesla-t4-vws    southamerica-east1-c       NVIDIA Tesla T4 Virtual Workstation\n",
            "nvidia-l4              asia-south1-b              NVIDIA L4\n",
            "nvidia-l4-vws          asia-south1-b              NVIDIA L4 Virtual Workstation\n",
            "nvidia-tesla-t4        asia-south1-b              NVIDIA T4\n",
            "nvidia-tesla-t4-vws    asia-south1-b              NVIDIA Tesla T4 Virtual Workstation\n",
            "nvidia-l4              asia-south1-a              NVIDIA L4\n",
            "nvidia-l4-vws          asia-south1-a              NVIDIA L4 Virtual Workstation\n",
            "nvidia-tesla-t4        asia-south1-a              NVIDIA T4\n",
            "nvidia-tesla-t4-vws    asia-south1-a              NVIDIA Tesla T4 Virtual Workstation\n",
            "nvidia-tesla-t4        asia-south1-c              NVIDIA T4\n",
            "nvidia-tesla-t4-vws    asia-south1-c              NVIDIA Tesla T4 Virtual Workstation\n",
            "nvidia-tesla-p4        northamerica-northeast1-a  NVIDIA Tesla P4\n",
            "nvidia-tesla-p4-vws    northamerica-northeast1-a  NVIDIA Tesla P4 Virtual Workstation\n",
            "nvidia-tesla-p4        northamerica-northeast1-b  NVIDIA Tesla P4\n",
            "nvidia-tesla-p4-vws    northamerica-northeast1-b  NVIDIA Tesla P4 Virtual Workstation\n",
            "nvidia-tesla-p4        northamerica-northeast1-c  NVIDIA Tesla P4\n",
            "nvidia-tesla-p4-vws    northamerica-northeast1-c  NVIDIA Tesla P4 Virtual Workstation\n",
            "nvidia-tesla-t4        northamerica-northeast1-c  NVIDIA T4\n",
            "nvidia-tesla-t4-vws    northamerica-northeast1-c  NVIDIA Tesla T4 Virtual Workstation\n",
            "nvidia-h100-80gb       europe-west4-c             NVIDIA H100 80GB\n",
            "nvidia-l4              europe-west4-c             NVIDIA L4\n",
            "nvidia-l4-vws          europe-west4-c             NVIDIA L4 Virtual Workstation\n",
            "nvidia-tesla-p4        europe-west4-c             NVIDIA Tesla P4\n",
            "nvidia-tesla-p4-vws    europe-west4-c             NVIDIA Tesla P4 Virtual Workstation\n",
            "nvidia-tesla-t4        europe-west4-c             NVIDIA T4\n",
            "nvidia-tesla-t4-vws    europe-west4-c             NVIDIA Tesla T4 Virtual Workstation\n",
            "nvidia-tesla-v100      europe-west4-c             NVIDIA V100\n",
            "ct5l                   europe-west4-b             ct5l\n",
            "nvidia-h100-80gb       europe-west4-b             NVIDIA H100 80GB\n",
            "nvidia-l4              europe-west4-b             NVIDIA L4\n",
            "nvidia-l4-vws          europe-west4-b             NVIDIA L4 Virtual Workstation\n",
            "nvidia-tesla-a100      europe-west4-b             NVIDIA A100 40GB\n",
            "nvidia-tesla-p4        europe-west4-b             NVIDIA Tesla P4\n",
            "nvidia-tesla-p4-vws    europe-west4-b             NVIDIA Tesla P4 Virtual Workstation\n",
            "nvidia-tesla-t4        europe-west4-b             NVIDIA T4\n",
            "nvidia-tesla-t4-vws    europe-west4-b             NVIDIA Tesla T4 Virtual Workstation\n",
            "nvidia-tesla-v100      europe-west4-b             NVIDIA V100\n",
            "ct5lp                  europe-west4-a             ct5lp\n",
            "nvidia-a100-80gb       europe-west4-a             NVIDIA A100 80GB\n",
            "nvidia-l4              europe-west4-a             NVIDIA L4\n",
            "nvidia-l4-vws          europe-west4-a             NVIDIA L4 Virtual Workstation\n",
            "nvidia-tesla-a100      europe-west4-a             NVIDIA A100 40GB\n",
            "nvidia-tesla-p100      europe-west4-a             NVIDIA Tesla P100\n",
            "nvidia-tesla-p100-vws  europe-west4-a             NVIDIA Tesla P100 Virtual Workstation\n",
            "nvidia-tesla-t4        europe-west4-a             NVIDIA T4\n",
            "nvidia-tesla-t4-vws    europe-west4-a             NVIDIA Tesla T4 Virtual Workstation\n",
            "nvidia-tesla-v100      europe-west4-a             NVIDIA V100\n",
            "nvidia-tesla-p4        us-west2-c                 NVIDIA Tesla P4\n",
            "nvidia-tesla-p4-vws    us-west2-c                 NVIDIA Tesla P4 Virtual Workstation\n",
            "nvidia-tesla-t4        us-west2-c                 NVIDIA T4\n",
            "nvidia-tesla-t4-vws    us-west2-c                 NVIDIA Tesla T4 Virtual Workstation\n",
            "nvidia-tesla-p4        us-west2-b                 NVIDIA Tesla P4\n",
            "nvidia-tesla-p4-vws    us-west2-b                 NVIDIA Tesla P4 Virtual Workstation\n",
            "nvidia-tesla-t4        us-west2-b                 NVIDIA T4\n",
            "nvidia-tesla-t4-vws    us-west2-b                 NVIDIA Tesla T4 Virtual Workstation\n",
            "nvidia-tesla-t4        asia-east2-c               NVIDIA T4\n",
            "nvidia-tesla-t4-vws    asia-east2-c               NVIDIA Tesla T4 Virtual Workstation\n",
            "nvidia-tesla-t4        asia-east2-a               NVIDIA T4\n",
            "nvidia-tesla-t4-vws    asia-east2-a               NVIDIA Tesla T4 Virtual Workstation\n",
            "nvidia-l4              europe-west6-b             NVIDIA L4\n",
            "nvidia-l4              asia-northeast3-a          NVIDIA L4\n",
            "nvidia-l4-vws          asia-northeast3-a          NVIDIA L4 Virtual Workstation\n",
            "nvidia-tesla-a100      asia-northeast3-a          NVIDIA A100 40GB\n",
            "nvidia-tesla-t4        asia-northeast3-c          NVIDIA T4\n",
            "nvidia-tesla-t4-vws    asia-northeast3-c          NVIDIA Tesla T4 Virtual Workstation\n",
            "nvidia-l4              asia-northeast3-b          NVIDIA L4\n",
            "nvidia-l4-vws          asia-northeast3-b          NVIDIA L4 Virtual Workstation\n",
            "nvidia-tesla-a100      asia-northeast3-b          NVIDIA A100 40GB\n",
            "nvidia-tesla-t4        asia-northeast3-b          NVIDIA T4\n",
            "nvidia-tesla-t4-vws    asia-northeast3-b          NVIDIA Tesla T4 Virtual Workstation\n",
            "nvidia-tesla-a100      us-west3-b                 NVIDIA A100 40GB\n",
            "nvidia-tesla-t4        us-west3-b                 NVIDIA T4\n",
            "nvidia-tesla-t4-vws    us-west3-b                 NVIDIA Tesla T4 Virtual Workstation\n",
            "nvidia-l4              us-west4-c                 NVIDIA L4\n",
            "nvidia-l4-vws          us-west4-c                 NVIDIA L4 Virtual Workstation\n",
            "ct5lp                  us-west4-a                 ct5lp\n",
            "nvidia-l4              us-west4-a                 NVIDIA L4\n",
            "nvidia-l4-vws          us-west4-a                 NVIDIA L4 Virtual Workstation\n",
            "nvidia-tesla-t4        us-west4-a                 NVIDIA T4\n",
            "nvidia-tesla-t4-vws    us-west4-a                 NVIDIA Tesla T4 Virtual Workstation\n",
            "ct5lp                  us-west4-b                 ct5lp\n",
            "nvidia-tesla-a100      us-west4-b                 NVIDIA A100 40GB\n",
            "nvidia-tesla-t4        us-west4-b                 NVIDIA T4\n",
            "nvidia-tesla-t4-vws    us-west4-b                 NVIDIA Tesla T4 Virtual Workstation\n",
            "nvidia-tesla-t4        asia-southeast2-a          NVIDIA T4\n",
            "nvidia-tesla-t4-vws    asia-southeast2-a          NVIDIA Tesla T4 Virtual Workstation\n",
            "nvidia-tesla-t4        asia-southeast2-b          NVIDIA T4\n",
            "nvidia-tesla-t4-vws    asia-southeast2-b          NVIDIA Tesla T4 Virtual Workstation\n",
            "nvidia-tesla-t4        europe-central2-b          NVIDIA T4\n",
            "nvidia-tesla-t4-vws    europe-central2-b          NVIDIA Tesla T4 Virtual Workstation\n",
            "nvidia-tesla-t4        europe-central2-c          NVIDIA T4\n",
            "nvidia-tesla-t4-vws    europe-central2-c          NVIDIA Tesla T4 Virtual Workstation\n",
            "nvidia-a100-80gb       us-east7-a                 NVIDIA A100 80GB\n",
            "ct5lp                  us-east7-b                 ct5lp\n",
            "nvidia-h100-80gb       us-east7-b                 NVIDIA H100 80GB\n",
            "nvidia-l4              us-east7-b                 NVIDIA L4\n",
            "nvidia-l4-vws          us-east7-b                 NVIDIA L4 Virtual Workstation\n",
            "nvidia-tesla-a100      us-east7-b                 NVIDIA A100 40GB\n",
            "nvidia-tesla-k80       us-east7-b                 NVIDIA Tesla K80\n",
            "nvidia-tesla-p100      us-east7-b                 NVIDIA Tesla P100\n",
            "nvidia-tesla-p100-vws  us-east7-b                 NVIDIA Tesla P100 Virtual Workstation\n",
            "nvidia-tesla-p4        us-east7-b                 NVIDIA Tesla P4\n",
            "nvidia-tesla-p4-vws    us-east7-b                 NVIDIA Tesla P4 Virtual Workstation\n",
            "nvidia-tesla-t4        us-east7-b                 NVIDIA T4\n",
            "nvidia-tesla-t4-vws    us-east7-b                 NVIDIA Tesla T4 Virtual Workstation\n",
            "nvidia-tesla-v100      us-east7-b                 NVIDIA V100\n",
            "ct5lp                  us-east5-c                 ct5lp\n",
            "ct5p                   us-east5-c                 ct5p\n",
            "ct5lp                  us-east5-b                 ct5lp\n",
            "nvidia-a100-80gb       us-east5-b                 NVIDIA A100 80GB\n",
            "ct5p                   us-east5-a                 ct5p\n",
            "nvidia-h100-80gb       us-east5-a                 NVIDIA H100 80GB\n",
            "ct5lp                  us-south1-a                ct5lp\n",
            "nvidia-tesla-a100      me-west1-b                 NVIDIA A100 40GB\n",
            "nvidia-tesla-t4        me-west1-b                 NVIDIA T4\n",
            "nvidia-tesla-t4-vws    me-west1-b                 NVIDIA Tesla T4 Virtual Workstation\n",
            "nvidia-tesla-a100      me-west1-c                 NVIDIA A100 40GB\n",
            "nvidia-tesla-t4        me-west1-c                 NVIDIA T4\n",
            "nvidia-tesla-t4-vws    me-west1-c                 NVIDIA Tesla T4 Virtual Workstation\n"
          ]
        }
      ]
    },
    {
      "cell_type": "markdown",
      "metadata": {
        "id": "1b3dda0e2f68"
      },
      "source": [
        "## Configure a hyperparameter tuning job\n",
        "\n",
        "Now that your training application code is containerized, it's time to specify and run the hyperparameter tuning job.\n",
        "\n",
        "To launch the hyperparameter tuning job, you need to first define the `worker_pool_specs`, which specifies the machine type and Docker image. The following spec defines one `n1-standard-4` machine with one `NVIDIA Tesla T4` GPU as the accelerator."
      ]
    },
    {
      "cell_type": "code",
      "execution_count": null,
      "metadata": {
        "id": "c066b586e18c"
      },
      "outputs": [],
      "source": [
        "# The spec of the worker pools including machine type and Docker image\n",
        "# Be sure to replace PROJECT_ID in the `image_uri` with your project.\n",
        "\n",
        "worker_pool_specs = [\n",
        "    {\n",
        "        \"machine_spec\": {\n",
        "            \"machine_type\": \"nvidia-tesla-p4\",\n",
        "            \"accelerator_type\": \"NVIDIA_TESLA_P4\",\n",
        "            \"accelerator_count\": 1,\n",
        "        },\n",
        "        \"replica_count\": 1,\n",
        "        \"container_spec\": {\n",
        "            \"image_uri\": f\"{REGION}-docker.pkg.dev/{PROJECT_ID}/{REPO_NAME}/horse_human_hptune:latest\"\n",
        "        },\n",
        "    }\n",
        "]"
      ]
    },
    {
      "cell_type": "markdown",
      "metadata": {
        "id": "58f02d71787a"
      },
      "source": [
        "### Define parameter spec\n",
        "\n",
        "Next, define the `parameter_spec`, which is a dictionary specifying the parameters you want to optimize. The **dictionary key** is the string you assigned to the command line argument for each hyperparameter, and the **dictionary value** is the parameter specification.\n",
        "\n",
        "For each hyperparameter, you need to define the `Type` as well as the bounds for the values that the tuning service will try. Hyperparameters can be of type `Double`, `Integer`, `Categorical`, or `Discrete`. If you select the type `Double` or `Integer`, you need to provide a minimum and maximum value. And if you select `Categorical` or `Discrete` you need to provide the values. For the `Double` and `Integer` types, you also need to provide the scaling value. Learn more about [Using an Appropriate Scale](https://www.youtube.com/watch?v=cSoK_6Rkbfg)."
      ]
    },
    {
      "cell_type": "code",
      "execution_count": null,
      "metadata": {
        "id": "b129b91536a1"
      },
      "outputs": [],
      "source": [
        "# Dictionary representing parameters to optimize.\n",
        "# The dictionary key is the parameter_id, which is passed into your training\n",
        "# job as a command line argument,\n",
        "# And the dictionary value is the parameter specification of the metric.\n",
        "parameter_spec = {\n",
        "    \"learning_rate\": hpt.DoubleParameterSpec(min=0.001, max=1, scale=\"log\"),\n",
        "    \"momentum\": hpt.DoubleParameterSpec(min=0, max=1, scale=\"linear\"),\n",
        "    \"num_units\": hpt.DiscreteParameterSpec(values=[64, 128, 512], scale=None),\n",
        "}"
      ]
    },
    {
      "cell_type": "markdown",
      "metadata": {
        "id": "5c37602d9bdf"
      },
      "source": [
        "The final spec to define is `metric_spec`, which is a dictionary representing the metric to optimize. The dictionary key is the `hyperparameter_metric_tag` that you set in your training application code, and the value is the optimization goal."
      ]
    },
    {
      "cell_type": "code",
      "execution_count": null,
      "metadata": {
        "id": "abf4b7253354"
      },
      "outputs": [],
      "source": [
        "# Dictionary representing metrics to optimize.\n",
        "# The dictionary key is the metric_id, which is reported by your training job,\n",
        "# And the dictionary value is the optimization goal of the metric.\n",
        "metric_spec = {\"accuracy\": \"maximize\"}"
      ]
    },
    {
      "cell_type": "markdown",
      "metadata": {
        "id": "d3acfccaa053"
      },
      "source": [
        "Once the specs are defined, you create a `CustomJob`, which is the common spec that will be used to run your job on each of the hyperparameter tuning trials."
      ]
    },
    {
      "cell_type": "code",
      "execution_count": null,
      "metadata": {
        "id": "2bc47496bcfd"
      },
      "outputs": [],
      "source": [
        "my_custom_job = aiplatform.CustomJob(\n",
        "    display_name=\"horses-humans-sdk-job\",\n",
        "    worker_pool_specs=worker_pool_specs,\n",
        "    staging_bucket=BUCKET_URI,\n",
        ")"
      ]
    },
    {
      "cell_type": "markdown",
      "metadata": {
        "id": "c82fd780f019"
      },
      "source": [
        "Then, create and run `HyperparameterTuningJob`."
      ]
    },
    {
      "cell_type": "code",
      "execution_count": null,
      "metadata": {
        "id": "d7a1878e7872"
      },
      "outputs": [],
      "source": [
        "hp_job = aiplatform.HyperparameterTuningJob(\n",
        "    display_name=\"horses-humans-sdk-job\",\n",
        "    custom_job=my_custom_job,\n",
        "    metric_spec=metric_spec,\n",
        "    parameter_spec=parameter_spec,\n",
        "    max_trial_count=10,\n",
        "    parallel_trial_count=3,\n",
        ")\n",
        "\n",
        "hp_job.run()"
      ]
    },
    {
      "cell_type": "markdown",
      "metadata": {
        "id": "956dc68681da"
      },
      "source": [
        "There are a few arguments to note:\n",
        "\n",
        "\n",
        "* **max_trial_count**: You need to put an upper bound on the number of trials the service will run. More trials generally leads to better results, but there will be a point of diminishing returns, after which additional trials have little or no effect on the metric you're trying to optimize. It is a best practice to start with a smaller number of trials and get a sense of how impactful your chosen hyperparameters are before scaling up.\n",
        "\n",
        "* **parallel_trial_count**: If you use parallel trials, the service provisions multiple training processing clusters. Increasing the number of parallel trials reduces the amount of time the hyperparameter tuning job takes to run; however, it can reduce the effectiveness of the job overall. This is because the default tuning strategy uses results of previous trials to inform the assignment of values in subsequent trials.\n",
        "\n",
        "* **search_algorithm**: You can set the search algorithm to grid, random, or default (None). If you do not specify an algorithm, as shown in this example, the default option applies Bayesian optimization to search the space of possible hyperparameter values and is the recommended algorithm. Learn more about [Hyperparameter tuning using Bayesian Optimization](https://cloud.google.com/blog/products/ai-machine-learning/hyperparameter-tuning-cloud-machine-learning-engine-using-bayesian-optimization)"
      ]
    },
    {
      "cell_type": "markdown",
      "metadata": {
        "id": "afd332595672"
      },
      "source": [
        "## Examine results\n",
        "\n",
        "Click on the generated link in the output to see your run in the Cloud Console. When the job completes, you will see the results of the tuning trials.\n",
        "\n",
        "You can sort the results by the optimization metric and then set the hyperparamers in your training application code to the values from the trial with the highest accuracy."
      ]
    },
    {
      "cell_type": "markdown",
      "metadata": {
        "id": "b641b26f883d"
      },
      "source": [
        "![console_ui_results](https://github.com/GoogleCloudPlatform/vertex-ai-samples/blob/main/notebooks/official/training/tuning_results.png?raw=1)"
      ]
    },
    {
      "cell_type": "markdown",
      "metadata": {
        "id": "TpV-iwP9qw9c"
      },
      "source": [
        "## Cleaning up\n",
        "\n",
        "To clean up all Google Cloud resources used in this project, you can [delete the Google Cloud\n",
        "project](https://cloud.google.com/resource-manager/docs/creating-managing-projects#shutting_down_projects) you used for the tutorial.\n",
        "\n",
        "Otherwise, you can delete the individual resources you created in this tutorial:"
      ]
    },
    {
      "cell_type": "code",
      "execution_count": null,
      "metadata": {
        "id": "sx_vKniMq9ZX"
      },
      "outputs": [],
      "source": [
        "# Delete artifact registry repo\n",
        "! gcloud artifacts repositories delete $REPO_NAME --location $REGION --quiet\n",
        "\n",
        "delete_custom_job = True\n",
        "delete_bucket = False\n",
        "\n",
        "# Delete hptune job\n",
        "if delete_custom_job:\n",
        "    try:\n",
        "        hp_job.delete()\n",
        "    except Exception as e:\n",
        "        print(e)\n",
        "\n",
        "# Delete bucket\n",
        "if delete_bucket or os.getenv(\"IS_TESTING\"):\n",
        "    ! gsutil rm -r $BUCKET_URI"
      ]
    }
  ],
  "metadata": {
    "colab": {
      "provenance": [],
      "include_colab_link": true
    },
    "kernelspec": {
      "display_name": "Python 3",
      "name": "python3"
    }
  },
  "nbformat": 4,
  "nbformat_minor": 0
}