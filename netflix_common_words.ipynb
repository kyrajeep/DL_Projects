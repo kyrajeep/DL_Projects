{
  "metadata": {
    "kernelspec": {
      "language": "python",
      "display_name": "Python 3",
      "name": "python3"
    },
    "language_info": {
      "name": "python",
      "version": "3.10.13",
      "mimetype": "text/x-python",
      "codemirror_mode": {
        "name": "ipython",
        "version": 3
      },
      "pygments_lexer": "ipython3",
      "nbconvert_exporter": "python",
      "file_extension": ".py"
    },
    "kaggle": {
      "accelerator": "none",
      "dataSources": [
        {
          "sourceType": "datasetVersion",
          "sourceId": 8534746,
          "datasetId": 4981370,
          "databundleVersionId": 8678007
        }
      ],
      "dockerImageVersionId": 30698,
      "isInternetEnabled": true,
      "language": "python",
      "sourceType": "notebook",
      "isGpuEnabled": false
    },
    "colab": {
      "provenance": [],
      "include_colab_link": true
    }
  },
  "nbformat_minor": 0,
  "nbformat": 4,
  "cells": [
    {
      "cell_type": "markdown",
      "metadata": {
        "id": "view-in-github",
        "colab_type": "text"
      },
      "source": [
        "<a href=\"https://colab.research.google.com/github/kyrajeep/DL_Projects/blob/master/netflix_common_words.ipynb\" target=\"_parent\"><img src=\"https://colab.research.google.com/assets/colab-badge.svg\" alt=\"Open In Colab\"/></a>"
      ]
    },
    {
      "source": [
        "# Based on a Kaggle dataset Netflix Reviews and a notebook by sara_metawea\n",
        "# IMPORTANT: RUN THIS CELL IN ORDER TO IMPORT YOUR KAGGLE DATA SOURCES\n",
        "# TO THE CORRECT LOCATION (/kaggle/input) IN YOUR NOTEBOOK,\n",
        "# THEN FEEL FREE TO DELETE THIS CELL.\n",
        "# NOTE: THIS NOTEBOOK ENVIRONMENT DIFFERS FROM KAGGLE'S PYTHON\n",
        "# ENVIRONMENT SO THERE MAY BE MISSING LIBRARIES USED BY YOUR\n",
        "# NOTEBOOK.\n",
        "\n",
        "import os\n",
        "import sys\n",
        "from tempfile import NamedTemporaryFile\n",
        "from urllib.request import urlopen\n",
        "from urllib.parse import unquote, urlparse\n",
        "from urllib.error import HTTPError\n",
        "from zipfile import ZipFile\n",
        "import tarfile\n",
        "import shutil\n",
        "\n",
        "CHUNK_SIZE = 40960\n",
        "DATA_SOURCE_MAPPING = 'netflix-reviews-playstore-daily-updated:https%3A%2F%2Fstorage.googleapis.com%2Fkaggle-data-sets%2F4981370%2F8534746%2Fbundle%2Farchive.zip%3FX-Goog-Algorithm%3DGOOG4-RSA-SHA256%26X-Goog-Credential%3Dgcp-kaggle-com%2540kaggle-161607.iam.gserviceaccount.com%252F20240528%252Fauto%252Fstorage%252Fgoog4_request%26X-Goog-Date%3D20240528T203638Z%26X-Goog-Expires%3D259200%26X-Goog-SignedHeaders%3Dhost%26X-Goog-Signature%3D1326f469e96f4747b4229faf15bb28b37611c33ff8e520c9d171892fbef5b7cb4e7a9c4b82facadfd70dfe9d09e332bae17c219d98ce054711937de7b860ce20d7a480b5639d61d87e845358c58c96a88cecb839e26c12c7d10c8d31184370c5fc6e440c91770108ae92245850e25d4dd65fd9f20eca5f8e1fff4daa353f7eb642bf87e0f90aa4bd74943f788283209e5e25de56c68d528e3c767d7e43d3ab80bb9b371a574591b56c26fdf664cb26bc405b37758b0b5e6d2e0409981a45d123535d971ab2f9f17cbd5fd61ab5a11db2e7f8f342a97221be53dd363923f313b5c2c2a432c7c26a963e6994010a6df5974858c736b84368c2aadcac81c306687c'\n",
        "\n",
        "KAGGLE_INPUT_PATH='/kaggle/input'\n",
        "KAGGLE_WORKING_PATH='/kaggle/working'\n",
        "KAGGLE_SYMLINK='kaggle'\n",
        "\n",
        "!umount /kaggle/input/ 2> /dev/null\n",
        "shutil.rmtree('/kaggle/input', ignore_errors=True)\n",
        "os.makedirs(KAGGLE_INPUT_PATH, 0o777, exist_ok=True)\n",
        "os.makedirs(KAGGLE_WORKING_PATH, 0o777, exist_ok=True)\n",
        "\n",
        "try:\n",
        "  os.symlink(KAGGLE_INPUT_PATH, os.path.join(\"..\", 'input'), target_is_directory=True)\n",
        "except FileExistsError:\n",
        "  pass\n",
        "try:\n",
        "  os.symlink(KAGGLE_WORKING_PATH, os.path.join(\"..\", 'working'), target_is_directory=True)\n",
        "except FileExistsError:\n",
        "  pass\n",
        "\n",
        "for data_source_mapping in DATA_SOURCE_MAPPING.split(','):\n",
        "    directory, download_url_encoded = data_source_mapping.split(':')\n",
        "    download_url = unquote(download_url_encoded)\n",
        "    filename = urlparse(download_url).path\n",
        "    destination_path = os.path.join(KAGGLE_INPUT_PATH, directory)\n",
        "    try:\n",
        "        with urlopen(download_url) as fileres, NamedTemporaryFile() as tfile:\n",
        "            total_length = fileres.headers['content-length']\n",
        "            print(f'Downloading {directory}, {total_length} bytes compressed')\n",
        "            dl = 0\n",
        "            data = fileres.read(CHUNK_SIZE)\n",
        "            while len(data) > 0:\n",
        "                dl += len(data)\n",
        "                tfile.write(data)\n",
        "                done = int(50 * dl / int(total_length))\n",
        "                sys.stdout.write(f\"\\r[{'=' * done}{' ' * (50-done)}] {dl} bytes downloaded\")\n",
        "                sys.stdout.flush()\n",
        "                data = fileres.read(CHUNK_SIZE)\n",
        "            if filename.endswith('.zip'):\n",
        "              with ZipFile(tfile) as zfile:\n",
        "                zfile.extractall(destination_path)\n",
        "            else:\n",
        "              with tarfile.open(tfile.name) as tarfile:\n",
        "                tarfile.extractall(destination_path)\n",
        "            print(f'\\nDownloaded and uncompressed: {directory}')\n",
        "    except HTTPError as e:\n",
        "        print(f'Failed to load (likely expired) {download_url} to path {destination_path}')\n",
        "        continue\n",
        "    except OSError as e:\n",
        "        print(f'Failed to load {download_url} to path {destination_path}')\n",
        "        continue\n",
        "\n",
        "print('Data source import complete.')\n"
      ],
      "metadata": {
        "id": "C0GmrOdl62hB"
      },
      "cell_type": "code",
      "outputs": [],
      "execution_count": null
    },
    {
      "cell_type": "code",
      "source": [
        "# This Python 3 environment comes with many helpful analytics libraries installed\n",
        "# It is defined by the kaggle/python Docker image: https://github.com/kaggle/docker-python\n",
        "# For example, here's several helpful packages to load\n",
        "from collections import Counter\n",
        "import string\n",
        "\n",
        "import numpy as np # linear algebra\n",
        "import pandas as pd # data processing, CSV file I/O (e.g. pd.read_csv)\n",
        "import matplotlib.pyplot as plt\n",
        "import seaborn as sns\n",
        "import warnings\n",
        "warnings.filterwarnings('ignore')\n",
        "# Input data files are available in the read-only \"../input/\" directory\n",
        "# For example, running this (by clicking run or pressing Shift+Enter) will list all files under the input directory\n",
        "\n",
        "import os\n",
        "for dirname, _, filenames in os.walk('/kaggle/input'):\n",
        "    for filename in filenames:\n",
        "        print(os.path.join(dirname, filename))\n",
        "\n",
        "\n",
        "\n",
        "# You can write up to 20GB to the current directory (/kaggle/working/) that gets preserved as output when you create a version using \"Save & Run All\"\n",
        "# You can also write temporary files to /kaggle/temp/, but they won't be saved outside of the current session"
      ],
      "metadata": {
        "_uuid": "8f2839f25d086af736a60e9eeb907d3b93b6e0e5",
        "_cell_guid": "b1076dfc-b9ad-4769-8c92-a6c4dae69d19",
        "execution": {
          "iopub.status.busy": "2024-05-28T19:00:50.567121Z",
          "iopub.execute_input": "2024-05-28T19:00:50.567523Z",
          "iopub.status.idle": "2024-05-28T19:00:50.57745Z",
          "shell.execute_reply.started": "2024-05-28T19:00:50.567487Z",
          "shell.execute_reply": "2024-05-28T19:00:50.575587Z"
        },
        "trusted": true,
        "id": "Eq76EIKR62hE"
      },
      "execution_count": null,
      "outputs": []
    },
    {
      "cell_type": "code",
      "source": [
        "data = pd.read_csv(\"/kaggle/input/netflix-reviews-playstore-daily-updated/netflix_reviews.csv\")"
      ],
      "metadata": {
        "execution": {
          "iopub.status.busy": "2024-05-28T19:00:50.579632Z",
          "iopub.execute_input": "2024-05-28T19:00:50.580051Z",
          "iopub.status.idle": "2024-05-28T19:00:51.453916Z",
          "shell.execute_reply.started": "2024-05-28T19:00:50.580019Z",
          "shell.execute_reply": "2024-05-28T19:00:51.452627Z"
        },
        "trusted": true,
        "id": "SNqLWSXj62hF"
      },
      "execution_count": null,
      "outputs": []
    },
    {
      "cell_type": "code",
      "source": [
        "data.head(2)"
      ],
      "metadata": {
        "execution": {
          "iopub.status.busy": "2024-05-28T19:00:51.456429Z",
          "iopub.execute_input": "2024-05-28T19:00:51.456925Z",
          "iopub.status.idle": "2024-05-28T19:00:51.472005Z",
          "shell.execute_reply.started": "2024-05-28T19:00:51.456884Z",
          "shell.execute_reply": "2024-05-28T19:00:51.470681Z"
        },
        "trusted": true,
        "id": "Jc4HXPop62hF"
      },
      "execution_count": null,
      "outputs": []
    },
    {
      "cell_type": "code",
      "source": [
        "red_palette = sns.color_palette(\"Reds\", 10)"
      ],
      "metadata": {
        "execution": {
          "iopub.status.busy": "2024-05-28T19:00:51.473658Z",
          "iopub.execute_input": "2024-05-28T19:00:51.474133Z",
          "iopub.status.idle": "2024-05-28T19:00:51.484496Z",
          "shell.execute_reply.started": "2024-05-28T19:00:51.474091Z",
          "shell.execute_reply": "2024-05-28T19:00:51.483509Z"
        },
        "trusted": true,
        "id": "9u2Q8KeJ62hF"
      },
      "execution_count": null,
      "outputs": []
    },
    {
      "cell_type": "code",
      "source": [
        "plt.figure(figsize = (10, 6))\n",
        "sns.histplot(data['score'],bins = 5, kde = True, color = red_palette[-1])\n",
        "plt.title('Distrbribution of Review score', fontsize=16)\n",
        "plt.xlabel('score', fontsize=14)\n",
        "plt.ylabel('frequency', fontsize=14)\n",
        "plt.show()"
      ],
      "metadata": {
        "execution": {
          "iopub.status.busy": "2024-05-28T19:00:51.487595Z",
          "iopub.execute_input": "2024-05-28T19:00:51.488858Z",
          "iopub.status.idle": "2024-05-28T19:00:52.302256Z",
          "shell.execute_reply.started": "2024-05-28T19:00:51.48881Z",
          "shell.execute_reply": "2024-05-28T19:00:52.301053Z"
        },
        "trusted": true,
        "id": "gJnHGdVt62hF"
      },
      "execution_count": null,
      "outputs": []
    },
    {
      "cell_type": "code",
      "source": [
        "plt.figure(figsize= (10, 6))\n",
        "sns.boxplot(x=data['thumbsUpCount'], color=red_palette[0])\n",
        "plt.title('Boxplot of Thumbs Up Counts', fontsize=16)\n",
        "plt.xlabel('Thumbs Up Count', fontsize=16)\n",
        "plt.show()"
      ],
      "metadata": {
        "execution": {
          "iopub.status.busy": "2024-05-28T19:00:52.303982Z",
          "iopub.execute_input": "2024-05-28T19:00:52.304421Z",
          "iopub.status.idle": "2024-05-28T19:00:52.561857Z",
          "shell.execute_reply.started": "2024-05-28T19:00:52.304379Z",
          "shell.execute_reply": "2024-05-28T19:00:52.560276Z"
        },
        "trusted": true,
        "id": "BgjFagOh62hG"
      },
      "execution_count": null,
      "outputs": []
    },
    {
      "cell_type": "code",
      "source": [
        "plt.figure(figsize=(10, 6))\n",
        "sns.kdeplot(data['score'], shade=True, color=red_palette[2])\n",
        "plt.title('Kernel Density Estimation of Scores', fontsize=16)\n",
        "plt.xlabel('Score', fontsize=14)\n",
        "plt.ylabel('Density', fontsize=14)\n",
        "plt.show()"
      ],
      "metadata": {
        "execution": {
          "iopub.status.busy": "2024-05-28T19:00:52.563883Z",
          "iopub.execute_input": "2024-05-28T19:00:52.564735Z",
          "iopub.status.idle": "2024-05-28T19:00:53.289662Z",
          "shell.execute_reply.started": "2024-05-28T19:00:52.564689Z",
          "shell.execute_reply": "2024-05-28T19:00:53.288524Z"
        },
        "trusted": true,
        "id": "0shBrAlt62hG"
      },
      "execution_count": null,
      "outputs": []
    },
    {
      "cell_type": "code",
      "source": [
        "plt.figure(figsize=(10, 6))\n",
        "sns.violinplot(x=data['score'], color=red_palette[4])\n",
        "plt.title('Violin Plot of Review Scores', fontsize=16)\n",
        "plt.xlabel('Scores', fontsize=14)\n",
        "plt.show()"
      ],
      "metadata": {
        "execution": {
          "iopub.status.busy": "2024-05-28T19:00:53.290881Z",
          "iopub.execute_input": "2024-05-28T19:00:53.291189Z",
          "iopub.status.idle": "2024-05-28T19:00:53.762507Z",
          "shell.execute_reply.started": "2024-05-28T19:00:53.291163Z",
          "shell.execute_reply": "2024-05-28T19:00:53.761275Z"
        },
        "trusted": true,
        "id": "2_jOnmtF62hG"
      },
      "execution_count": null,
      "outputs": []
    },
    {
      "cell_type": "code",
      "source": [
        "score_counts = data['score'].value_counts().sort_index()\n",
        "plt.figure(figsize=(8, 8))\n",
        "plt.pie(score_counts, labels=score_counts.index, autopct='%1.2f%%', colors=red_palette)\n",
        "plt.title('Distribution of Review Scores', fontsize=16)\n",
        "plt.show()"
      ],
      "metadata": {
        "execution": {
          "iopub.status.busy": "2024-05-28T19:00:53.764129Z",
          "iopub.execute_input": "2024-05-28T19:00:53.764611Z",
          "iopub.status.idle": "2024-05-28T19:00:53.958037Z",
          "shell.execute_reply.started": "2024-05-28T19:00:53.764569Z",
          "shell.execute_reply": "2024-05-28T19:00:53.957045Z"
        },
        "trusted": true,
        "id": "zAFaKoU_62hG"
      },
      "execution_count": null,
      "outputs": []
    },
    {
      "cell_type": "markdown",
      "source": [
        "Has anyone written a review over a period of time? If there are multiple users that wrote before and after a significant update or business decisions, that can help in making future decisions."
      ],
      "metadata": {
        "id": "bYTzDOaS62hG"
      }
    },
    {
      "cell_type": "code",
      "source": [
        "data.nunique()"
      ],
      "metadata": {
        "execution": {
          "iopub.status.busy": "2024-05-28T19:00:53.960478Z",
          "iopub.execute_input": "2024-05-28T19:00:53.961148Z",
          "iopub.status.idle": "2024-05-28T19:00:54.127922Z",
          "shell.execute_reply.started": "2024-05-28T19:00:53.961099Z",
          "shell.execute_reply": "2024-05-28T19:00:54.126426Z"
        },
        "trusted": true,
        "id": "tycqrh3G62hG"
      },
      "execution_count": null,
      "outputs": []
    },
    {
      "cell_type": "markdown",
      "source": [
        "There are users that left more than one review."
      ],
      "metadata": {
        "id": "X7b0NMLl62hH"
      }
    },
    {
      "cell_type": "code",
      "source": [
        "data.describe()"
      ],
      "metadata": {
        "execution": {
          "iopub.status.busy": "2024-05-28T19:00:54.131096Z",
          "iopub.execute_input": "2024-05-28T19:00:54.131509Z",
          "iopub.status.idle": "2024-05-28T19:00:54.158503Z",
          "shell.execute_reply.started": "2024-05-28T19:00:54.131474Z",
          "shell.execute_reply": "2024-05-28T19:00:54.157501Z"
        },
        "trusted": true,
        "id": "qOTBXF3562hH"
      },
      "execution_count": null,
      "outputs": []
    },
    {
      "cell_type": "code",
      "source": [
        "#data = data.drop_duplicates()\n",
        "#data.nunique()\n",
        "data.columns\n",
        "data['content'] = data['content'].fillna('')\n"
      ],
      "metadata": {
        "execution": {
          "iopub.status.busy": "2024-05-28T19:00:54.160301Z",
          "iopub.execute_input": "2024-05-28T19:00:54.160839Z",
          "iopub.status.idle": "2024-05-28T19:00:54.195005Z",
          "shell.execute_reply.started": "2024-05-28T19:00:54.160794Z",
          "shell.execute_reply": "2024-05-28T19:00:54.193372Z"
        },
        "trusted": true,
        "id": "CLYxWcpT62hH"
      },
      "execution_count": null,
      "outputs": []
    },
    {
      "cell_type": "code",
      "source": [
        "def preprocess(text):\n",
        "    # Convert to lowercase\n",
        "    text = text.lower()\n",
        "    # Remove punctuation\n",
        "    text = text.translate(str.maketrans('', '', string.punctuation))\n",
        "    # Split into words\n",
        "    words = text.split()\n",
        "    return words"
      ],
      "metadata": {
        "execution": {
          "iopub.status.busy": "2024-05-28T19:00:54.197098Z",
          "iopub.execute_input": "2024-05-28T19:00:54.197655Z",
          "iopub.status.idle": "2024-05-28T19:00:54.206691Z",
          "shell.execute_reply.started": "2024-05-28T19:00:54.197613Z",
          "shell.execute_reply": "2024-05-28T19:00:54.205178Z"
        },
        "trusted": true,
        "id": "5YAxuaf_62hH"
      },
      "execution_count": null,
      "outputs": []
    },
    {
      "cell_type": "code",
      "source": [
        "# Apply preprocessing to each review\n",
        "all_words = []\n",
        "for review in data['content']:\n",
        "    words = preprocess(review)\n",
        "    all_words.extend(words)\n",
        "\n",
        "    # 3. Count the words\n",
        "word_counts = Counter(all_words)\n",
        "\n",
        "# Get the most common words\n",
        "most_common_words = word_counts.most_common()\n",
        "\n",
        "# Print the most common words\n",
        "print(most_common_words)"
      ],
      "metadata": {
        "execution": {
          "iopub.status.busy": "2024-05-28T19:00:54.208251Z",
          "iopub.execute_input": "2024-05-28T19:00:54.208618Z",
          "iopub.status.idle": "2024-05-28T19:00:56.202066Z",
          "shell.execute_reply.started": "2024-05-28T19:00:54.208588Z",
          "shell.execute_reply": "2024-05-28T19:00:56.20081Z"
        },
        "trusted": true,
        "id": "6saUzT6K62hH"
      },
      "execution_count": null,
      "outputs": []
    },
    {
      "cell_type": "code",
      "source": [
        "# Now decide on what to do with this information."
      ],
      "metadata": {
        "id": "XnOB7FPT62hH"
      },
      "execution_count": null,
      "outputs": []
    }
  ]
}